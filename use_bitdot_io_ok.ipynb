{
  "nbformat": 4,
  "nbformat_minor": 0,
  "metadata": {
    "colab": {
      "name": "use_bitdot_io_ok.ipynb",
      "provenance": [],
      "collapsed_sections": [],
      "authorship_tag": "ABX9TyODuTW71EZJ3S5wMf+dMYp9",
      "include_colab_link": true
    },
    "kernelspec": {
      "name": "python3",
      "display_name": "Python 3"
    },
    "language_info": {
      "name": "python"
    }
  },
  "cells": [
    {
      "cell_type": "markdown",
      "metadata": {
        "id": "view-in-github",
        "colab_type": "text"
      },
      "source": [
        "<a href=\"https://colab.research.google.com/github/swatchai/cartopy_asean_proj/blob/master/use_bitdot_io_ok.ipynb\" target=\"_parent\"><img src=\"https://colab.research.google.com/assets/colab-badge.svg\" alt=\"Open In Colab\"/></a>"
      ]
    },
    {
      "cell_type": "markdown",
      "metadata": {
        "id": "-UjjgkRyHEl9"
      },
      "source": [
        "Status:\n",
        "OK on most important parts.\n"
      ]
    },
    {
      "cell_type": "markdown",
      "metadata": {
        "id": "95sRIKkBBz1S"
      },
      "source": [
        "https://docs.bit.io/docs/using-python-bitdotio"
      ]
    },
    {
      "cell_type": "markdown",
      "metadata": {
        "id": "M66zXgvvDbij"
      },
      "source": [
        "ERROR: pip's dependency resolver does not currently take into account all the packages that are installed. This behaviour is the source of the following dependency conflicts.\n",
        "flask 1.1.4 requires click<8.0,>=5.1, but you have click 8.0.1 which is incompatible.\n",
        "Successfully installed bitdotio-1.0.7b1 click-8.0.1 psycopg2-2.9.1"
      ]
    },
    {
      "cell_type": "code",
      "metadata": {
        "id": "ykWkOu-aB-7z"
      },
      "source": [
        "!pip install bitdotio[psycopg2]"
      ],
      "execution_count": null,
      "outputs": []
    },
    {
      "cell_type": "markdown",
      "metadata": {
        "id": "RFklBA7_FWZg"
      },
      "source": [
        "Collecting bitdotio[psycopg2]\n",
        "  Using cached bitdotio-1.0.7b1-py3-none-any.whl (77 kB)\n",
        "Requirement already satisfied: urllib3>=1.15 in /usr/local/lib/python3.7/dist-packages (from bitdotio[psycopg2]) (1.24.3)\n",
        "Collecting click>=8.0.1\n",
        "  Using cached click-8.0.1-py3-none-any.whl (97 kB)\n",
        "Requirement already satisfied: six>=1.10 in /usr/local/lib/python3.7/dist-packages (from bitdotio[psycopg2]) (1.15.0)\n",
        "Requirement already satisfied: python-dateutil in /usr/local/lib/python3.7/dist-packages (from bitdotio[psycopg2]) (2.8.2)\n",
        "Requirement already satisfied: certifi in /usr/local/lib/python3.7/dist-packages (from bitdotio[psycopg2]) (2021.5.30)\n",
        "Collecting psycopg2>=2.8.6\n",
        "  Using cached psycopg2-2.9.1.tar.gz (379 kB)\n",
        "Requirement already satisfied: importlib-metadata in /usr/local/lib/python3.7/dist-packages (from click>=8.0.1->bitdotio[psycopg2]) (4.6.4)\n",
        "Requirement already satisfied: zipp>=0.5 in /usr/local/lib/python3.7/dist-packages (from importlib-metadata->click>=8.0.1->bitdotio[psycopg2]) (3.5.0)\n",
        "Requirement already satisfied: typing-extensions>=3.6.4 in /usr/local/lib/python3.7/dist-packages (from importlib-metadata->click>=8.0.1->bitdotio[psycopg2]) (3.7.4.3)\n",
        "Building wheels for collected packages: psycopg2\n",
        "  Building wheel for psycopg2 (setup.py) ... done\n",
        "  Created wheel for psycopg2: filename=psycopg2-2.9.1-cp37-cp37m-linux_x86_64.whl size=471235 sha256=6a219ab62fb5bfb0741e66713581294d476c056920f1930f2a4b73c0ab02fd87\n",
        "  Stored in directory: /root/.cache/pip/wheels/07/32/f0/dee9fe112d2b8d7777955f2cbf428eadcf75bff3535a9dff6a\n",
        "Successfully built psycopg2\n",
        "Installing collected packages: click, psycopg2, bitdotio\n",
        "  Attempting uninstall: click\n",
        "    Found existing installation: click 7.1.2\n",
        "    Uninstalling click-7.1.2:\n",
        "      Successfully uninstalled click-7.1.2\n",
        "  Attempting uninstall: psycopg2\n",
        "    Found existing installation: psycopg2 2.7.6.1\n",
        "    Uninstalling psycopg2-2.7.6.1:\n",
        "      Successfully uninstalled psycopg2-2.7.6.1\n",
        "\n",
        "      \n",
        "ERROR: pip's dependency resolver does not currently take into account all the packages that are installed. This behaviour is the source of the following dependency conflicts.\n",
        "flask 1.1.4 requires click<8.0,>=5.1, but you have click 8.0.1 which is incompatible.\n",
        "Successfully installed bitdotio-1.0.7b1 click-8.0.1 psycopg2-2.9.1"
      ]
    },
    {
      "cell_type": "markdown",
      "metadata": {
        "id": "-GK9kDajGDiK"
      },
      "source": [
        "Status:\n",
        "On Google Colab: fails to run!"
      ]
    },
    {
      "cell_type": "code",
      "metadata": {
        "id": "UV2RL6PICV_N"
      },
      "source": [
        "# Need help? Reach out to support@bit.io!\n",
        "import bitdotio\n",
        "from pprint import pprint"
      ],
      "execution_count": 3,
      "outputs": []
    },
    {
      "cell_type": "code",
      "metadata": {
        "id": "40z8ABTxCb_4"
      },
      "source": [
        "# Check out https://github.com/bitdotioinc/python-bitdotio for more examples and documentation\n",
        "# Connect to bitdot.io\n",
        "\n",
        "client = bitdotio.bitdotio(\"EGm6_AZ4uBkPUYmP4Lh6TJGF42KM\")"
      ],
      "execution_count": 5,
      "outputs": []
    },
    {
      "cell_type": "code",
      "metadata": {
        "id": "LTezR2kYDioX"
      },
      "source": [
        "dir(client)"
      ],
      "execution_count": null,
      "outputs": []
    },
    {
      "cell_type": "code",
      "metadata": {
        "id": "m_L_JL6rC0dD"
      },
      "source": [
        "## pprint(client.list_repos())\n",
        "\"\"\"\n",
        "MaxRetryError: HTTPSConnectionPool(host='api.bit.io', port=443): Max retries exceeded with url: /api/v1beta/repos/ \n",
        "(Caused by SSLError(SSLCertVerificationError(1, \n",
        "'[SSL: CERTIFICATE_VERIFY_FAILED] certificate verify failed: unable to get local issuer certificate (_ssl.c:1091)')))\n",
        "\"\"\";\n"
      ],
      "execution_count": 14,
      "outputs": []
    },
    {
      "cell_type": "code",
      "metadata": {
        "colab": {
          "base_uri": "https://localhost:8080/"
        },
        "id": "srj8FWRwGW_-",
        "outputId": "63063bb7-0127-4411-c31d-9ae4d4b8d5e4"
      },
      "source": [
        "# How about some database queries?\n",
        "# Use this to get connection when needed\n",
        "# Warning: connection will be terminated aftere a few seconds.\n",
        "\n",
        "conn = client.get_connection()\n",
        "cur = conn.cursor()\n",
        "cur.execute(\"SELECT 1\")\n",
        "pprint(cur.fetchone())"
      ],
      "execution_count": 60,
      "outputs": [
        {
          "output_type": "stream",
          "name": "stdout",
          "text": [
            "(1,)\n"
          ]
        }
      ]
    },
    {
      "cell_type": "markdown",
      "metadata": {
        "id": "mg9CmN4tHVZS"
      },
      "source": [
        "This retrieves the row of data that its location is\n",
        "- nearest to lon: 15.5, latitude: 100.5\n",
        "- the return values: a cursor, 'cur'\n",
        "- 'cur', has fetchone, fetchall, etc methods\n",
        "- this particular SQL asks for 1 record\n",
        "- columns of data: id, row_num, col_num, longitude, latitude, geoid_height "
      ]
    },
    {
      "cell_type": "code",
      "metadata": {
        "id": "mZHovY_xGa0x"
      },
      "source": [
        "## Simple string is OK, but difficult to debug.\n",
        "## Note the values: \n",
        "#   CAST((0.5+(100.5-95)/0.01666666667) AS INT)\n",
        "#   CAST((0.5+(15.5-3)/0.01666666667) AS INT)\n",
        "# must be computed numerically to use.\n",
        "# This example is a test, I made simple things more complex.\n",
        "\n",
        "cur.execute(\"\"\"SELECT * FROM \"swatchai/TGM2017 Geoid\".\"tgm2017_id_row_col_lon_lat_h_936000\" WHERE CAST((0.5+(100.5-95)/0.01666666667) AS INT) = orig_colnum AND CAST((0.5+(15.5-3)/0.01666666667) AS INT) = orig_rownum\"\"\")"
      ],
      "execution_count": 10,
      "outputs": []
    },
    {
      "cell_type": "code",
      "metadata": {
        "id": "el2HQELCQLTj"
      },
      "source": [
        "## Using (...) to group parts between AND is OK.\n",
        "\n",
        "cur.execute(\"\"\"SELECT * FROM \"swatchai/TGM2017 Geoid\".\"tgm2017_id_row_col_lon_lat_h_936000\" WHERE (CAST((0.5+(100.5-95)/0.01666666667) AS INT) = orig_colnum) AND (CAST((0.5+(15.5-3)/0.01666666667) AS INT) = orig_rownum)\"\"\")"
      ],
      "execution_count": 30,
      "outputs": []
    },
    {
      "cell_type": "code",
      "metadata": {
        "colab": {
          "base_uri": "https://localhost:8080/"
        },
        "id": "KuoQh4ITGlEr",
        "outputId": "9bf850a9-74b1-4a92-a0dc-10cd715c5d1b"
      },
      "source": [
        "pprint(cur.fetchall())"
      ],
      "execution_count": 31,
      "outputs": [
        {
          "output_type": "stream",
          "name": "stdout",
          "text": [
            "[(584550, 750, 330, 100.491666667765, 15.491666669165, -32.358)]\n"
          ]
        }
      ]
    },
    {
      "cell_type": "code",
      "metadata": {
        "colab": {
          "base_uri": "https://localhost:8080/"
        },
        "id": "34BwUBrZWsTQ",
        "outputId": "e0cc1f41-8f7d-4c6b-9c89-18fc9d316a49"
      },
      "source": [
        "int(0.5+(100.5-95)/0.01666666667), int(0.5+(15.5-3)/0.01666666667), int(0.5+(100.8-95)/0.01666666667), int(0.5+(15.8-3)/0.01666666667)"
      ],
      "execution_count": 51,
      "outputs": [
        {
          "output_type": "execute_result",
          "data": {
            "text/plain": [
              "(330, 750, 348, 768)"
            ]
          },
          "metadata": {},
          "execution_count": 51
        }
      ]
    },
    {
      "cell_type": "code",
      "metadata": {
        "id": "o32l86doKAx2"
      },
      "source": [
        "## To retrieve rows of data that falls within a rectangular areas that\n",
        "## longitude: 100.5 to 100.8\n",
        "## latitude:   15.5 to 15.8\n",
        "\n",
        "## These set of 4 failed parsing!!\n",
        "## Obvious mathematic should be done, and the results are used\n",
        "\n",
        "#left = \"(orig_colnum >= CAST((0.5+(100.5-95)/0.01666666667) AS INT)) \"\n",
        "#bottom = \"AND (orig_rownum >= CAST((0.5+(15.5-3)/0.01666666667) AS INT)) \"\n",
        "#right = \"AND (orig_colnum <= CAST((0.5+(100.8-95)/0.01666666667) AS INT)) \"\n",
        "#top = \"AND (orig_rownum <= CAST((0.5+(15.8-3)/0.01666666667) AS INT)) \"\n",
        "\n",
        "## These set of 4 is OK.\n",
        "## Must compute the numbers and use them.\n",
        "\n",
        "## TODO: Create functions to handle these.\n",
        "min_col = int(0.5+(100.5-95)/0.01666666667)\n",
        "min_row = int(0.5+(15.5-3)/0.01666666667)\n",
        "max_col = int(0.5+(100.8-95)/0.01666666667)\n",
        "max_row = int(0.5+(15.8-3)/0.01666666667)\n",
        "\n",
        "left2 = f\"orig_colnum >= {min_col} \"\n",
        "bottom2 = f\"AND orig_rownum >= {min_row} \"\n",
        "right2 = f\"AND orig_colnum <= {max_col} \"\n",
        "top2 = f\"AND orig_rownum <= {max_row}\"\n",
        "\n",
        "## Putting them together\n",
        "\n",
        "query_str = 'SELECT * FROM \"swatchai/TGM2017 Geoid\".\"tgm2017_id_row_col_lon_lat_h_936000\" WHERE ' + left2 + bottom2 + right2 + top2\n"
      ],
      "execution_count": 61,
      "outputs": []
    },
    {
      "cell_type": "code",
      "metadata": {
        "colab": {
          "base_uri": "https://localhost:8080/"
        },
        "id": "VCFSIBCTNh_o",
        "outputId": "fccf6c6e-05e9-448c-9243-3609c98fa044"
      },
      "source": [
        "print(query_str )"
      ],
      "execution_count": 62,
      "outputs": [
        {
          "output_type": "stream",
          "name": "stdout",
          "text": [
            "SELECT * FROM \"swatchai/TGM2017 Geoid\".\"tgm2017_id_row_col_lon_lat_h_936000\" WHERE orig_colnum >= 330 AND orig_rownum >= 750 AND orig_colnum <= 348 AND orig_rownum <= 768\n"
          ]
        }
      ]
    },
    {
      "cell_type": "code",
      "metadata": {
        "id": "74QVqLFoNHd6"
      },
      "source": [
        "cur.execute( query_str )"
      ],
      "execution_count": 63,
      "outputs": []
    },
    {
      "cell_type": "code",
      "metadata": {
        "id": "CIVQAWr_XrwU"
      },
      "source": [
        "pprint(cur.fetchall())  ## OK"
      ],
      "execution_count": null,
      "outputs": []
    },
    {
      "cell_type": "markdown",
      "metadata": {
        "id": "eMiZ0qDkaWUt"
      },
      "source": [
        "[(584550, 750, 330, 100.491666667765, 15.491666669165, -32.358),\n",
        " (584551, 750, 331, 100.508333334435, 15.491666669165, -32.295),\n",
        " (584552, 750, 332, 100.525000001105, 15.491666669165, -32.23),\n",
        " (584553, 750, 333, 100.541666667775, 15.491666669165, -32.162),\n",
        "\n",
        "\n",
        " ...\n",
        "\n",
        "\n",
        " (598605, 768, 345, 100.741666667815, 15.791666669225, -31.806),\n",
        " (598606, 768, 346, 100.758333334485, 15.791666669225, -31.757),\n",
        " (598607, 768, 347, 100.775000001155, 15.791666669225, -31.713),\n",
        " (598608, 768, 348, 100.791666667825, 15.791666669225, -31.677)]\n",
        "\n",
        "```\n",
        "# This is formatted as code\n",
        "```\n",
        "\n",
        "\n"
      ]
    }
  ]
}