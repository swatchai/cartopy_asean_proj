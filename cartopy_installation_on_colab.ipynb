{
  "nbformat": 4,
  "nbformat_minor": 0,
  "metadata": {
    "kernelspec": {
      "display_name": "Python [cartopy]",
      "language": "python",
      "name": "Python [cartopy]"
    },
    "language_info": {
      "codemirror_mode": {
        "name": "ipython",
        "version": 2
      },
      "file_extension": ".py",
      "mimetype": "text/x-python",
      "name": "python",
      "nbconvert_exporter": "python",
      "pygments_lexer": "ipython2",
      "version": "2.7.12"
    },
    "colab": {
      "name": "cartopy_getstarted_on_colab.ipynb",
      "provenance": [],
      "collapsed_sections": [],
      "include_colab_link": true
    }
  },
  "cells": [
    {
      "cell_type": "markdown",
      "metadata": {
        "id": "view-in-github",
        "colab_type": "text"
      },
      "source": [
        "<a href=\"https://colab.research.google.com/github/swatchai/cartopy_asean_proj/blob/master/cartopy_installation_on_colab.ipynb\" target=\"_parent\"><img src=\"https://colab.research.google.com/assets/colab-badge.svg\" alt=\"Open In Colab\"/></a>"
      ]
    },
    {
      "cell_type": "markdown",
      "metadata": {
        "id": "JAD3FcFsSHgH"
      },
      "source": [
        "## Get started using Cartopy"
      ]
    },
    {
      "cell_type": "markdown",
      "metadata": {
        "id": "W2H18pSjvct3"
      },
      "source": [
        "Purpose: To assist my followers to install Cartopy and get started."
      ]
    },
    {
      "cell_type": "markdown",
      "metadata": {
        "id": "AUZH_aC6SHgM"
      },
      "source": [
        "Author: swatchai kriengkraipet"
      ]
    },
    {
      "cell_type": "markdown",
      "metadata": {
        "id": "k2-BzWVOSHgP"
      },
      "source": [
        "Summaries:\n",
        "- This is Jupyter notebook\n",
        "- Shared on: colab\n",
        "- Requires: Python3 + matplotlib + cartopy + etc. packages\n",
        "- Prepared for my followers\n",
        "- Some hacks included to get around the bugs.\n",
        "\n",
        "Following inexperienced people can be more adventurous and have a lot of fun, but following experienced ones often lead you to the desired destination. \n"
      ]
    },
    {
      "cell_type": "code",
      "metadata": {
        "collapsed": true,
        "id": "7qJFoOyqSHgQ"
      },
      "source": [
        "%matplotlib inline"
      ],
      "execution_count": 1,
      "outputs": []
    },
    {
      "cell_type": "code",
      "metadata": {
        "colab": {
          "base_uri": "https://localhost:8080/"
        },
        "id": "ngh5WE9PVz_Z",
        "outputId": "5974c31f-58bf-4631-867b-55f672def46c"
      },
      "source": [
        "! which python"
      ],
      "execution_count": 2,
      "outputs": [
        {
          "output_type": "stream",
          "text": [
            "/usr/local/bin/python\n"
          ],
          "name": "stdout"
        }
      ]
    },
    {
      "cell_type": "code",
      "metadata": {
        "id": "eiCAnOFiV6Vu"
      },
      "source": [
        "import sys"
      ],
      "execution_count": 3,
      "outputs": []
    },
    {
      "cell_type": "code",
      "metadata": {
        "colab": {
          "base_uri": "https://localhost:8080/",
          "height": 35
        },
        "id": "V9z-KVVwWMqU",
        "outputId": "bbd81853-9faf-4a61-e033-710002c81e95"
      },
      "source": [
        "sys.version"
      ],
      "execution_count": 4,
      "outputs": [
        {
          "output_type": "execute_result",
          "data": {
            "application/vnd.google.colaboratory.intrinsic+json": {
              "type": "string"
            },
            "text/plain": [
              "'3.7.11 (default, Jul  3 2021, 18:01:19) \\n[GCC 7.5.0]'"
            ]
          },
          "metadata": {},
          "execution_count": 4
        }
      ]
    },
    {
      "cell_type": "code",
      "metadata": {
        "colab": {
          "base_uri": "https://localhost:8080/"
        },
        "id": "sNH9JK5rSsQZ",
        "outputId": "5db43e3a-ac82-4af0-f40c-69dd54008e95"
      },
      "source": [
        "!pip install cartopy"
      ],
      "execution_count": 3,
      "outputs": [
        {
          "output_type": "stream",
          "text": [
            "Collecting cartopy\n",
            "  Using cached Cartopy-0.19.0.post1-cp37-cp37m-linux_x86_64.whl\n",
            "Requirement already satisfied: pyshp>=2 in /usr/local/lib/python3.7/dist-packages (from cartopy) (2.1.3)\n",
            "Requirement already satisfied: numpy>=1.13.3 in /usr/local/lib/python3.7/dist-packages (from cartopy) (1.19.5)\n",
            "Requirement already satisfied: shapely>=1.5.6 in /usr/local/lib/python3.7/dist-packages (from cartopy) (1.7.1)\n",
            "Installing collected packages: cartopy\n",
            "Successfully installed cartopy-0.19.0.post1\n"
          ],
          "name": "stdout"
        }
      ]
    },
    {
      "cell_type": "code",
      "metadata": {
        "colab": {
          "base_uri": "https://localhost:8080/"
        },
        "id": "zF8OJxfPtWw-",
        "outputId": "63667ddd-9e1b-4611-8f47-a29e13cbb1f3"
      },
      "source": [
        "## uninstall the BAD implementation of shapely\n",
        "## .. that causes cartopy's crashes\n",
        "\n",
        "!pip uninstall shapely -y"
      ],
      "execution_count": 4,
      "outputs": [
        {
          "output_type": "stream",
          "text": [
            "Found existing installation: Shapely 1.7.1\n",
            "Uninstalling Shapely-1.7.1:\n",
            "  Successfully uninstalled Shapely-1.7.1\n"
          ],
          "name": "stdout"
        }
      ]
    },
    {
      "cell_type": "code",
      "metadata": {
        "colab": {
          "base_uri": "https://localhost:8080/"
        },
        "id": "y8xXgWJstWhq",
        "outputId": "9007b25c-ce41-45ce-d121-71fd81f80459"
      },
      "source": [
        "## Install the GOOD shapely\n",
        "## .. that wont crash cartopy.\n",
        "\n",
        "!pip install shapely --no-binary shapely"
      ],
      "execution_count": 5,
      "outputs": [
        {
          "output_type": "stream",
          "text": [
            "Collecting shapely\n",
            "  Downloading Shapely-1.7.1.tar.gz (383 kB)\n",
            "\u001b[?25l\r\u001b[K     |▉                               | 10 kB 25.2 MB/s eta 0:00:01\r\u001b[K     |█▊                              | 20 kB 27.6 MB/s eta 0:00:01\r\u001b[K     |██▋                             | 30 kB 29.4 MB/s eta 0:00:01\r\u001b[K     |███▍                            | 40 kB 31.1 MB/s eta 0:00:01\r\u001b[K     |████▎                           | 51 kB 32.4 MB/s eta 0:00:01\r\u001b[K     |█████▏                          | 61 kB 35.0 MB/s eta 0:00:01\r\u001b[K     |██████                          | 71 kB 33.3 MB/s eta 0:00:01\r\u001b[K     |██████▉                         | 81 kB 34.9 MB/s eta 0:00:01\r\u001b[K     |███████▊                        | 92 kB 33.1 MB/s eta 0:00:01\r\u001b[K     |████████▌                       | 102 kB 30.6 MB/s eta 0:00:01\r\u001b[K     |█████████▍                      | 112 kB 30.6 MB/s eta 0:00:01\r\u001b[K     |██████████▎                     | 122 kB 30.6 MB/s eta 0:00:01\r\u001b[K     |███████████▏                    | 133 kB 30.6 MB/s eta 0:00:01\r\u001b[K     |████████████                    | 143 kB 30.6 MB/s eta 0:00:01\r\u001b[K     |████████████▉                   | 153 kB 30.6 MB/s eta 0:00:01\r\u001b[K     |█████████████▊                  | 163 kB 30.6 MB/s eta 0:00:01\r\u001b[K     |██████████████▌                 | 174 kB 30.6 MB/s eta 0:00:01\r\u001b[K     |███████████████▍                | 184 kB 30.6 MB/s eta 0:00:01\r\u001b[K     |████████████████▎               | 194 kB 30.6 MB/s eta 0:00:01\r\u001b[K     |█████████████████               | 204 kB 30.6 MB/s eta 0:00:01\r\u001b[K     |██████████████████              | 215 kB 30.6 MB/s eta 0:00:01\r\u001b[K     |██████████████████▉             | 225 kB 30.6 MB/s eta 0:00:01\r\u001b[K     |███████████████████▊            | 235 kB 30.6 MB/s eta 0:00:01\r\u001b[K     |████████████████████▌           | 245 kB 30.6 MB/s eta 0:00:01\r\u001b[K     |█████████████████████▍          | 256 kB 30.6 MB/s eta 0:00:01\r\u001b[K     |██████████████████████▎         | 266 kB 30.6 MB/s eta 0:00:01\r\u001b[K     |███████████████████████         | 276 kB 30.6 MB/s eta 0:00:01\r\u001b[K     |████████████████████████        | 286 kB 30.6 MB/s eta 0:00:01\r\u001b[K     |████████████████████████▉       | 296 kB 30.6 MB/s eta 0:00:01\r\u001b[K     |█████████████████████████▋      | 307 kB 30.6 MB/s eta 0:00:01\r\u001b[K     |██████████████████████████▌     | 317 kB 30.6 MB/s eta 0:00:01\r\u001b[K     |███████████████████████████▍    | 327 kB 30.6 MB/s eta 0:00:01\r\u001b[K     |████████████████████████████▏   | 337 kB 30.6 MB/s eta 0:00:01\r\u001b[K     |█████████████████████████████   | 348 kB 30.6 MB/s eta 0:00:01\r\u001b[K     |██████████████████████████████  | 358 kB 30.6 MB/s eta 0:00:01\r\u001b[K     |██████████████████████████████▉ | 368 kB 30.6 MB/s eta 0:00:01\r\u001b[K     |███████████████████████████████▋| 378 kB 30.6 MB/s eta 0:00:01\r\u001b[K     |████████████████████████████████| 383 kB 30.6 MB/s \n",
            "\u001b[?25hSkipping wheel build for shapely, due to binaries being disabled for it.\n",
            "Installing collected packages: shapely\n",
            "    Running setup.py install for shapely ... \u001b[?25l\u001b[?25hdone\n",
            "\u001b[31mERROR: pip's dependency resolver does not currently take into account all the packages that are installed. This behaviour is the source of the following dependency conflicts.\n",
            "albumentations 0.1.12 requires imgaug<0.2.7,>=0.2.5, but you have imgaug 0.2.9 which is incompatible.\u001b[0m\n",
            "Successfully installed shapely-1.7.1\n"
          ],
          "name": "stdout"
        }
      ]
    },
    {
      "cell_type": "code",
      "metadata": {
        "colab": {
          "base_uri": "https://localhost:8080/",
          "height": 35
        },
        "id": "NtcnatpTYPad",
        "outputId": "bab2fe15-9284-4041-d3f0-2f9ba894bcf4"
      },
      "source": [
        "## cartopy is installed, sometimes NOT able to use in subsequent cells\n",
        "## this checks if we can use it\n",
        "\n",
        "import cartopy\n",
        "cartopy.__version__"
      ],
      "execution_count": 7,
      "outputs": [
        {
          "output_type": "execute_result",
          "data": {
            "application/vnd.google.colaboratory.intrinsic+json": {
              "type": "string"
            },
            "text/plain": [
              "'0.19.0.post1'"
            ]
          },
          "metadata": {},
          "execution_count": 7
        }
      ]
    },
    {
      "cell_type": "code",
      "metadata": {
        "colab": {
          "base_uri": "https://localhost:8080/",
          "height": 496
        },
        "id": "wYYT8g9QYODb",
        "outputId": "75ba2cfe-0501-4c62-ac7f-7103db960e9c"
      },
      "source": [
        "# Has troubles with GEOS library!\n",
        "# Crashes with unknown reason!\n",
        "# Sometimes, err messages is:  Geometry must be a Point or LineString\n",
        "\n",
        "import matplotlib.pyplot as plt\n",
        "import cartopy.crs as ccrs\n",
        "\n",
        "projn_lonlat = ccrs.PlateCarree()  # for graticule labeling\n",
        "projn_axis = ccrs.Mercator()       # for plot's axis; many to choose from\n",
        "\n",
        "fig = plt.figure(figsize=(10, 8))\n",
        "ax = fig.add_subplot(projection=projn_axis)\n",
        "ax.set_extent( [90, 115, 0, 25], crs=projn_lonlat )\n",
        "\n",
        "ax.coastlines()\n",
        "ax.gridlines(crs=projn_lonlat, draw_labels=True, lw=1.2, edgecolor=\"darkblue\", zorder=12)\n",
        "plt.show()\n"
      ],
      "execution_count": 18,
      "outputs": [
        {
          "output_type": "display_data",
          "data": {
            "image/png": "[encoded data removed]",
            "text/plain": [
              "<Figure size 720x576 with 1 Axes>"
            ]
          },
          "metadata": {
            "needs_background": "light"
          }
        }
      ]
    },
    {
      "cell_type": "code",
      "metadata": {
        "id": "j7XOgXERxF4M"
      },
      "source": [
        "help(ax.gridlines)"
      ],
      "execution_count": null,
      "outputs": []
    },
    {
      "cell_type": "markdown",
      "metadata": {
        "id": "8iiwgSNlvUsz"
      },
      "source": [
        "End of file."
      ]
    },
    {
      "cell_type": "code",
      "metadata": {
        "id": "Dl3CXW7ruCNc"
      },
      "source": [
        ""
      ],
      "execution_count": null,
      "outputs": []
    }
  ]
}